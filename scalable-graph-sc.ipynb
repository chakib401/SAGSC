{
  "cells": [
    {
      "cell_type": "code",
      "execution_count": null,
      "metadata": {
        "id": "ZEMqwh3H14p1"
      },
      "outputs": [],
      "source": [
        "from ogb.nodeproppred import NodePropPredDataset\n",
        "import numpy as np\n",
        "from scipy.sparse import csr_matrix\n",
        "import scipy.io as io\n",
        "import os\n",
        "\n",
        "def datagen(dataset):\n",
        "  if dataset in ['wiki', 'pubmed', 'computers', 'acm', 'dblp']: \n",
        "    data = io.loadmat(os.path.join('data', f'{dataset}.mat'))\n",
        "    features = data['fea'].astype(float)\n",
        "    adj = data.get('W')\n",
        "    if adj is not None:\n",
        "      adj = adj.astype(float)\n",
        "      if not sp.issparse(adj):\n",
        "          adj = sp.csc_matrix(adj)\n",
        "    \n",
        "    if not sparse and sp.issparse(features):\n",
        "        features = features.toarray()\n",
        "    labels = data['gnd'].reshape(-1) - 1\n",
        "    n_classes = len(np.unique(labels))\n",
        "    return adj, features, labels, n_classes\n",
        "\n",
        "  if dataset == 'arxiv': \n",
        "    from ogb.nodeproppred import NodePropPredDataset\n",
        "    dataset = NodePropPredDataset(name='ogbn-arxiv', root='data')\n",
        "    graph = dataset[0] \n",
        "    data = graph[0]\n",
        "    labels = graph[1].reshape(-1)\n",
        "\n",
        "    \n",
        "    features = data['node_feat']\n",
        "    row_ind = data['edge_index'][0]\n",
        "    col_ind = data['edge_index'][1]\n",
        "    data = np.ones(len(row_ind))\n",
        "    \n",
        "    N = M = len(features)\n",
        "    adj = csr_matrix((data, (row_ind, col_ind)), shape=(M, N))\n",
        "    adj = (adj + adj.T)\n",
        "    \n",
        "    n_classes = len(np.unique(labels))\n",
        "\n",
        "    return adj, features, labels, n_classes"
      ]
    },
    {
      "cell_type": "code",
      "execution_count": null,
      "metadata": {
        "id": "qtJqU0XL1LWx"
      },
      "outputs": [],
      "source": [
        "from sklearn.utils.extmath import randomized_svd\n",
        "from sklearn.preprocessing import normalize\n",
        "import numpy as np\n",
        "import scipy.sparse as sp\n",
        "from sklearn.preprocessing import normalize\n",
        "from sklearn.feature_extraction.text import TfidfTransformer\n",
        "from sklearn.metrics import normalized_mutual_info_score as nmi\n",
        "from sklearn.metrics import adjusted_rand_score as ari, davies_bouldin_score\n",
        "from numpy.linalg import inv as inverse\n",
        "from numpy.linalg import norm\n",
        "import matplotlib.pyplot as plt\n",
        "from sklearn.cluster import KMeans\n",
        "from sklearn.kernel_approximation import PolynomialCountSketch, Nystroem\n",
        "from sklearn.feature_extraction.text import TfidfTransformer\n",
        "from time import time\n",
        "from scipy import sparse\n",
        "from sklearn.cluster import SpectralClustering\n",
        "from sklearn.preprocessing import PolynomialFeatures\n",
        "from sklearn.preprocessing import StandardScaler\n",
        "import warnings\n",
        "\n",
        "warnings.filterwarnings('ignore')\n",
        "\n",
        "\n",
        "def preprocess_dataset(adj, features, row_norm=True, sym_norm=True, feat_norm='l2', tf_idf=False, sparse=False, alpha=1, beta=1):\n",
        "    if sym_norm:\n",
        "        adj = aug_normalized_adjacency(adj, True, alpha=alpha)\n",
        "    if row_norm:\n",
        "        adj = row_normalize(adj, True, alpha=beta)\n",
        "\n",
        "    if tf_idf:\n",
        "        features = TfidfTransformer(norm=feat_norm).fit_transform(features)\n",
        "    else:\n",
        "        features = normalize(features, feat_norm)\n",
        "    \n",
        "    if not sparse:\n",
        "        features = features.toarray()\n",
        "    return adj, features\n",
        "\n",
        "def aug_normalized_adjacency(adj, add_loops=True, alpha=1):\n",
        "    if add_loops:\n",
        "        adj = adj + alpha*sp.eye(adj.shape[0])\n",
        "    adj = sp.coo_matrix(adj)\n",
        "    row_sum = np.array(adj.sum(1))\n",
        "    d_inv_sqrt = np.power(row_sum, -0.5).flatten()\n",
        "    d_inv_sqrt[np.isinf(d_inv_sqrt)] = 0.\n",
        "    d_mat_inv_sqrt = sp.diags(d_inv_sqrt)\n",
        "    return d_mat_inv_sqrt.dot(adj).dot(d_mat_inv_sqrt).tocoo()\n",
        "\n",
        "\n",
        "def row_normalize(mx, add_loops=True, alpha=1):\n",
        "    if add_loops:\n",
        "        mx = mx + alpha * sp.eye(mx.shape[0])\n",
        "    rowsum = np.array(mx.sum(1))\n",
        "    r_inv = np.power(rowsum, -1).flatten()\n",
        "    r_inv[np.isinf(r_inv)] = 0.\n",
        "    r_mat_inv = sp.diags(r_inv)\n",
        "    mx = r_mat_inv.dot(mx)\n",
        "    return mx\n",
        "\n",
        "\n",
        "def clustering_accuracy(y_true, y_pred):\n",
        "    from sklearn.metrics import confusion_matrix\n",
        "    from scipy.optimize import linear_sum_assignment\n",
        "\n",
        "    def ordered_confusion_matrix(y_true, y_pred):\n",
        "      conf_mat = confusion_matrix(y_true, y_pred)\n",
        "      w = np.max(conf_mat) - conf_mat\n",
        "      row_ind, col_ind = linear_sum_assignment(w)\n",
        "      conf_mat = conf_mat[row_ind, :]\n",
        "      conf_mat = conf_mat[:, col_ind]\n",
        "      return conf_mat\n",
        "\n",
        "    conf_mat = ordered_confusion_matrix(y_true, y_pred)\n",
        "    return np.trace(conf_mat) / np.sum(conf_mat)\n",
        "\n",
        "\n",
        "def square_feat_map(z, c=1):\n",
        "  polf = PolynomialFeatures(include_bias=True)\n",
        "  x = polf.fit_transform(z)\n",
        "  coefs = np.ones(len(polf.powers_))\n",
        "  coefs[0] = c\n",
        "  coefs[(polf.powers_ == 1).sum(1) == 2] = np.sqrt(2)\n",
        "  coefs[(polf.powers_ == 1).sum(1) == 1] = np.sqrt(2*c) \n",
        "  return x * coefs\n",
        "\n",
        "from sklearn.decomposition import TruncatedSVD\n",
        "\n",
        "def run_model(H, c, k):\n",
        "  H = StandardScaler(with_std=False).fit_transform(H)\n",
        "  svd = TruncatedSVD(k)\n",
        "  svd.fit(H.T)\n",
        "  U = svd.components_.T\n",
        "\n",
        "  Z = square_feat_map(U, c=c)\n",
        "  r = Z.sum(0)\n",
        "  D = Z @ r \n",
        "  Z_hat = Z / D[:,None]**.5\n",
        "  \n",
        "  svd = TruncatedSVD(k+1)\n",
        "  svd.fit(Z_hat.T)\n",
        "  Q = svd.components_.T[:,1:]\n",
        "  P = KMeans(k).fit_predict(Q)  \n",
        "  return P, Q"
      ]
    },
    {
      "cell_type": "code",
      "execution_count": null,
      "metadata": {
        "colab": {
          "base_uri": "https://localhost:8080/"
        },
        "id": "q1HXnpwN988C",
        "outputId": "7ae0e6f4-5a35-4ca6-b340-6cb71ec3233d"
      },
      "outputs": [
        {
          "name": "stdout",
          "output_type": "stream",
          "text": [
            "3025 & 16153 & 1870 & 3 & 1.1\\\n",
            "4057 & 2502276 & 334 & 4 & 1.6\\\n",
            "13381 & 259159 & 767 & 10 & 17.5\\\n",
            "19717 & 64041 & 500 & 3 & 1.9\\\n",
            "2405 & 14001 & 4973 & 17 & 45.1\\\n",
            "Downloading http://snap.stanford.edu/ogb/data/nodeproppred/arxiv.zip\n"
          ]
        },
        {
          "name": "stderr",
          "output_type": "stream",
          "text": [
            "Downloaded 0.08 GB: 100%|██████████| 81/81 [00:06<00:00, 13.06it/s]\n"
          ]
        },
        {
          "name": "stdout",
          "output_type": "stream",
          "text": [
            "Extracting data/arxiv.zip\n",
            "Loading necessary files...\n",
            "This might take a while.\n",
            "Processing graphs...\n"
          ]
        },
        {
          "name": "stderr",
          "output_type": "stream",
          "text": [
            "100%|██████████| 1/1 [00:00<00:00, 7231.56it/s]"
          ]
        },
        {
          "name": "stdout",
          "output_type": "stream",
          "text": [
            "Saving...\n"
          ]
        },
        {
          "name": "stderr",
          "output_type": "stream",
          "text": [
            "\n"
          ]
        },
        {
          "name": "stdout",
          "output_type": "stream",
          "text": [
            "169343 & 1327142 & 128 & 40 & 942.1\\\n"
          ]
        }
      ],
      "source": [
        "for dataset in ['acm', 'dblp', 'computers', 'pubmed',  'wiki', 'arxiv']:\n",
        "  adj, features, labels, n_classes =  datagen(dataset)\n",
        "  d = sp.diags(adj.diagonal())\n",
        "  adj = (adj-d)\n",
        "  a = np.unique(labels, return_counts=True)[1]\n",
        "  print(f'{features.shape[0]} & {adj.getnnz()//2+d.getnnz()} & {features.shape[1]} & {n_classes} & {a.max()/a.min():.1f}\\\\')"
      ]
    },
    {
      "cell_type": "code",
      "execution_count": null,
      "metadata": {
        "id": "eJ39gyf-TXvg"
      },
      "outputs": [],
      "source": [
        "from sklearn.decomposition import TruncatedSVD\n",
        "\n",
        "def run_model(H, c, k):\n",
        "  H = StandardScaler(with_std=False).fit_transform(H)\n",
        "  svd = TruncatedSVD(k)\n",
        "  svd.fit(H.T)\n",
        "  U = svd.components_.T\n",
        "\n",
        "  Z = square_feat_map(U, c=c)\n",
        "  r = Z.sum(0)\n",
        "  D = Z @ r \n",
        "  Z_hat = Z / D[:,None]**.5\n",
        "  \n",
        "  svd = TruncatedSVD(k+1)\n",
        "  svd.fit(Z_hat.T)\n",
        "  Q = svd.components_.T[:,1:]\n",
        "  P = KMeans(k).fit_predict(Q)  \n",
        "  return P, Q"
      ]
    },
    {
      "cell_type": "code",
      "execution_count": null,
      "metadata": {
        "colab": {
          "background_save": true
        },
        "id": "gtB6edhG5ZyI"
      },
      "outputs": [],
      "source": [
        "from sklearn.kernel_approximation import RBFSampler, PolynomialCountSketch, Nystroem\n",
        "from sklearn.feature_extraction.text import TfidfTransformer\n",
        "from sklearn.neighbors import kneighbors_graph\n",
        "from time import time\n",
        "from scipy import sparse\n",
        "from sklearn.metrics import silhouette_score\n",
        "\n",
        "for _ in range(10):\n",
        "  max_power = 15\n",
        "  n_runs = 10\n",
        "\n",
        "\n",
        "  for dataset, p in [ \n",
        "      ('acm', 2),\n",
        "      ('dblp', 2),\n",
        "      ('arxiv', 54),\n",
        "      ('computers', 67),\n",
        "      ('wiki', 4),\n",
        "      ('pubmed', 100),\n",
        "      ]:\n",
        "    \n",
        "      print(dataset, '-----------')\n",
        "      \n",
        "      tf_idf = True\n",
        "      adj, features, labels, n_classes =  datagen(dataset)\n",
        "      norm_adj, features = preprocess_dataset(adj, features, \n",
        "                                              tf_idf=tf_idf,\n",
        "                                              sparse=True)\n",
        "                                              \n",
        "      \n",
        "      \n",
        "      features = features.toarray()\n",
        "      n, d = features.shape\n",
        "      k = n_classes\n",
        "        \n",
        "        \n",
        "      metrics = {}\n",
        "      metrics['acc'] = []\n",
        "      metrics['nmi'] = []\n",
        "      metrics['ari'] = []\n",
        "      metrics['time'] = []\n",
        "\n",
        "      x = features\n",
        "      for run in range(n_runs):\n",
        "        features = x\n",
        "        t0 = time()\n",
        "        for power in range(1,p+1):\n",
        "          features = norm_adj @ features\n",
        "        P, Q = run_model(features, c=2**-.5, k=k)\n",
        "        \n",
        "        metrics['time'].append(time()-t0)\n",
        "        metrics['acc'].append(clustering_accuracy(labels, P)*100)\n",
        "        metrics['nmi'].append(nmi(labels, P)*100)\n",
        "        metrics['ari'].append(ari(labels, P)*100)\n",
        "\n",
        "      results = {\n",
        "          'mean': {k:(np.mean(v)).round(2) for k,v in metrics.items() }, \n",
        "          'std': {k:(np.std(v)).round(2) for k,v in metrics.items()}\n",
        "      }\n",
        "\n",
        "      means = results['mean']\n",
        "      std = results['std']\n",
        "\n",
        "\n",
        "      print(f\"{dataset} {power}\")\n",
        "      print(f\"{means['acc']}±{std['acc']} & {means['nmi']}±{std['nmi']} & {means['ari']}±{std['ari']}\", sep=',')\n",
        "      print(f\"{means['time']}±{std['time']}\")"
      ]
    }
  ],
  "metadata": {
    "accelerator": "GPU",
    "colab": {
      "collapsed_sections": [],
      "name": "Copy of wsdm.ipynb",
      "provenance": []
    },
    "gpuClass": "standard",
    "kernelspec": {
      "display_name": "Python 3",
      "name": "python3"
    },
    "language_info": {
      "name": "python"
    }
  },
  "nbformat": 4,
  "nbformat_minor": 0
}